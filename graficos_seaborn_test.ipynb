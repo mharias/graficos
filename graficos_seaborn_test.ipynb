{
 "cells": [
  {
   "cell_type": "markdown",
   "metadata": {},
   "source": [
    "# Vamos a trabajar en este notebook la creación de gráficos con la librería de Seaborn"
   ]
  },
  {
   "cell_type": "code",
   "execution_count": 35,
   "metadata": {},
   "outputs": [],
   "source": [
    "import pandas as pd\n",
    "import matplotlib.pyplot as plt\n",
    "from matplotlib.ticker import FuncFormatter\n",
    "from matplotlib import cm\n",
    "\n",
    "from matplotlib.dates import (YEARLY, MONTHLY, DateFormatter, MonthLocator,DayLocator,\n",
    "                              rrulewrapper, RRuleLocator, drange)\n",
    "import numpy as np\n",
    "\n",
    "from datetime import datetime\n",
    "import seaborn as sns\n",
    "%matplotlib inline"
   ]
  },
  {
   "cell_type": "code",
   "execution_count": 2,
   "metadata": {},
   "outputs": [],
   "source": [
    "x=np.arange(1,2,.1)"
   ]
  },
  {
   "cell_type": "code",
   "execution_count": 3,
   "metadata": {},
   "outputs": [],
   "source": [
    "x=np.linspace(0,100,11)"
   ]
  },
  {
   "cell_type": "code",
   "execution_count": 4,
   "metadata": {},
   "outputs": [
    {
     "data": {
      "text/plain": [
       "array([  0.,  10.,  20.,  30.,  40.,  50.,  60.,  70.,  80.,  90., 100.])"
      ]
     },
     "execution_count": 4,
     "metadata": {},
     "output_type": "execute_result"
    }
   ],
   "source": [
    "x"
   ]
  },
  {
   "cell_type": "code",
   "execution_count": 5,
   "metadata": {},
   "outputs": [],
   "source": [
    "y=np.linspace(2,40,11)"
   ]
  },
  {
   "cell_type": "code",
   "execution_count": 6,
   "metadata": {},
   "outputs": [
    {
     "data": {
      "text/plain": [
       "array([ 2. ,  5.8,  9.6, 13.4, 17.2, 21. , 24.8, 28.6, 32.4, 36.2, 40. ])"
      ]
     },
     "execution_count": 6,
     "metadata": {},
     "output_type": "execute_result"
    }
   ],
   "source": [
    "y"
   ]
  },
  {
   "cell_type": "code",
   "execution_count": 7,
   "metadata": {},
   "outputs": [],
   "source": [
    "posicion_xticks=x[::3]\n",
    "posicion_xticks=x[::2]"
   ]
  },
  {
   "cell_type": "code",
   "execution_count": 8,
   "metadata": {},
   "outputs": [],
   "source": [
    "rango_color=np.linspace(0,1,11)"
   ]
  },
  {
   "cell_type": "code",
   "execution_count": 9,
   "metadata": {},
   "outputs": [
    {
     "data": {
      "image/png": "[encoded data removed]",
      "text/plain": [
       "<Figure size 432x288 with 1 Axes>"
      ]
     },
     "metadata": {
      "needs_background": "light"
     },
     "output_type": "display_data"
    }
   ],
   "source": [
    "sns.set(style=\"white\", context=\"talk\")\n",
    "\n",
    "# Preparamos los datos\n",
    "\n",
    "provincias=['Badajoz','Cáceres']\n",
    "datos = df.fillna(0,axis=1)\n",
    "datos = datos[(datos['date']>=datetime(year=2020,month=5,day=1)) & (datos['province'].isin(provincias))]\n",
    "#datos = datos[datos['province'].isin(andalucia)]\n",
    "#clave='intensive_care_per_1000000'\n",
    "clave='PCR'\n",
    "#clave='deaths_last_week'\n",
    "#clave='hospitalized_per_100000'\n",
    "#clave='cases_per_cienmil'\n",
    "clave='daily_cases_PCR_avg7'\n",
    "clave = 'daily_cases_PCR'\n",
    "#clave = 'new_cases'\n",
    "#datos = datos[['date','province','PCR']].fillna(0,axis=1)\n",
    "\n",
    "\n",
    "\n",
    "# Set up the matplotlib figure\n",
    "f, (ax1, ax2) = plt.subplots(2, 1, figsize=(7, 5), sharex= True)\n",
    "\n",
    "# Generate some sequential data\n",
    "x = datos['date'].unique()\n",
    "y1 = datos[datos['province']=='Badajoz']['daily_cases_PCR']\n",
    "\n",
    "\n",
    "XmajorFmt = DateFormatter('%B')\n",
    "\n",
    "ax1.xaxis.set_major_formatter(XmajorFmt)\n",
    "ax1.xaxis.set_tick_params(labelsize=10,labelcolor='navy')\n",
    "ax1.xaxis.set_major_locator(DayLocator([1]))\n",
    "\n",
    "ax1.yaxis.set_tick_params(labelsize=12,labelcolor='navy')\n",
    "ax1.yaxis.set_major_locator(plt.MaxNLocator(10))\n",
    "\n",
    "sns.barplot(x=x, y=y1, palette=\"rocket\", ax=ax1)\n",
    "#ax1.axhline(0, color=\"k\", clip_on=False)\n",
    "#ax1.set_ylabel(\"Sequential\")\n",
    "\n",
    "\n",
    "# Center the data to make it diverging\n",
    "y2 = datos[datos['province']=='Cáceres']['daily_cases_PCR']\n",
    "sns.barplot(x=x, y=y2, palette=\"vlag\", ax=ax2)\n",
    "ax2.xaxis.set_major_formatter(XmajorFmt)\n",
    "ax2.xaxis.set_tick_params(labelsize=10,labelcolor='navy')\n",
    "ax2.xaxis.set_major_locator(DayLocator([1]))\n",
    "\n",
    "\n",
    "# Finalize the plot\n",
    "#sns.despine(bottom=True)\n",
    "#plt.setp(f.axes, yticks=[])\n",
    "#plt.tight_layout(h_pad=2)"
   ]
  }
 ],
 "metadata": {
  "kernelspec": {
   "display_name": "Python 3",
   "language": "python",
   "name": "python3"
  },
  "language_info": {
   "codemirror_mode": {
    "name": "ipython",
    "version": 3
   },
   "file_extension": ".py",
   "mimetype": "text/x-python",
   "name": "python",
   "nbconvert_exporter": "python",
   "pygments_lexer": "ipython3",
   "version": "3.8.5"
  }
 },
 "nbformat": 4,
 "nbformat_minor": 4
}
